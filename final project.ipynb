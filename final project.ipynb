{
  "metadata": {
    "kernelspec": {
      "name": "python",
      "display_name": "Python (Pyodide)",
      "language": "python"
    },
    "language_info": {
      "codemirror_mode": {
        "name": "python",
        "version": 3
      },
      "file_extension": ".py",
      "mimetype": "text/x-python",
      "name": "python",
      "nbconvert_exporter": "python",
      "pygments_lexer": "ipython3",
      "version": "3.8"
    }
  },
  "nbformat_minor": 5,
  "nbformat": 4,
  "cells": [
    {
      "id": "19e4ce05-4cf3-4dc6-b72d-2b29480e62e9",
      "cell_type": "code",
      "source": "## Introduction\nThis notebook demonstrates my understanding of key data science concepts through various exercises.\n",
      "metadata": {
        "trusted": true
      },
      "outputs": [],
      "execution_count": null
    },
    {
      "id": "88030346-255c-429a-a7ec-bf284db93e03",
      "cell_type": "code",
      "source": "## Data Science Languages\n- Python  \n- R  \n- SQL  \n- Julia  \n- Java",
      "metadata": {
        "trusted": true
      },
      "outputs": [],
      "execution_count": null
    },
    {
      "id": "fb00f47e-39ba-44ea-9d44-50ff4d2765d5",
      "cell_type": "code",
      "source": "## Data Science Libraries\n- Pandas  \n- NumPy  \n- Matplotlib  \n- Seaborn  \n- TensorFlow  \n- PyTorch",
      "metadata": {
        "trusted": true
      },
      "outputs": [],
      "execution_count": null
    },
    {
      "id": "91f29b7f-84b4-4c77-bd51-76cf2048211e",
      "cell_type": "code",
      "source": "## Data Science Tools\n\n| Tool           | Description                       |\n|----------------|-----------------------------------|\n| Jupyter Notebook | Interactive coding environment   |\n| RStudio        | IDE for R programming            |\n| TensorFlow     | Machine learning library         |\n| Apache Hadoop  | Big data processing framework    |\n| Tableau        | Data visualization software      |\n",
      "metadata": {
        "trusted": true
      },
      "outputs": [],
      "execution_count": null
    },
    {
      "id": "a4f8159c-c869-427f-99cb-4b9c89486b59",
      "cell_type": "code",
      "source": "## Arithmetic Expression Examples\nBelow are examples of arithmetic operations, such as addition and multiplication.\n",
      "metadata": {
        "trusted": true
      },
      "outputs": [],
      "execution_count": null
    },
    {
      "id": "a4558cc4-93c4-4245-97d1-4803c1504188",
      "cell_type": "code",
      "source": "# Multiplying and adding numbers\nresult = (5 * 4) + 10\nresult\n",
      "metadata": {
        "trusted": true
      },
      "outputs": [],
      "execution_count": null
    },
    {
      "id": "0b76380a-048d-4f51-a4fb-9b4d793a15d3",
      "cell_type": "code",
      "source": "# Converting minutes to hours\nminutes = 150\nhours = minutes / 60\nhours\n",
      "metadata": {
        "trusted": true
      },
      "outputs": [],
      "execution_count": null
    },
    {
      "id": "26fd1ea7-06bb-4161-a880-5989f2af6af6",
      "cell_type": "code",
      "source": "## Objectives\n- Understand the basic languages used in Data Science\n- Familiarize with commonly used libraries and tools\n- Learn simple arithmetic operations in Python\n",
      "metadata": {
        "trusted": true
      },
      "outputs": [],
      "execution_count": null
    },
    {
      "id": "47726d1c-0e1c-4abd-82f4-459608bc9323",
      "cell_type": "code",
      "source": "## Author\n[Buchupalli Nandini]\n",
      "metadata": {
        "trusted": true
      },
      "outputs": [],
      "execution_count": null
    }
  ]
}